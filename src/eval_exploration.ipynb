{
 "cells": [
  {
   "cell_type": "code",
   "execution_count": null,
   "metadata": {},
   "outputs": [],
   "source": [
    "import numpy as np\n",
    "import os\n",
    "import pandas\n",
    "import json\n",
    "from pathlib import Path\n",
    "import matplotlib.pyplot as plt\n",
    "from pandas_profiling import ProfileReport"
   ]
  },
  {
   "cell_type": "code",
   "execution_count": null,
   "metadata": {},
   "outputs": [],
   "source": [
    "rows = [\"experiment_1\", \"experiment_2\", \"experiment_3\"]\n",
    "cols = [\"experiment_name\", \"method_name\", \"inference_time (something proportional to time)\"\n",
    "       , \"ground_truth_traj\", \"eval_traj\", \"l2_eval_error\", \"training_loss\", \"model_parameters\"]"
   ]
  },
  {
   "cell_type": "code",
   "execution_count": null,
   "metadata": {},
   "outputs": [],
   "source": [
    "loaded_df = pandas.read_pickle(\"../dataframe.pkl\")"
   ]
  },
  {
   "cell_type": "code",
   "execution_count": null,
   "metadata": {},
   "outputs": [],
   "source": [
    "fig, ax1 = plt.subplots(1)\n",
    "fig.set_figwidth(16)\n",
    "fig.set_figheight(8)\n",
    "for index, row in loaded_df.iterrows():\n",
    "    if row[\"system_name\"] != \"spring\":\n",
    "        continue\n",
    "    if row[\"method_name\"] == \"srnn\":\n",
    "        style = \"k\"\n",
    "        label = \"srnn\"\n",
    "    elif row[\"method_name\"] == \"hnn\":\n",
    "        style = \"b\"\n",
    "        label = \"hnn\"\n",
    "    elif row[\"method_name\"] == \"mlp\":\n",
    "        style = \"r\"\n",
    "        label = \"mlp\" \n",
    "    ax1.semilogy(row[\"inferred_trajectory_error\"].mean(axis=0), style, label=label)\n",
    "ax1.set_xlabel(\"Time step\")\n",
    "ax1.set_ylabel(\"Relative Error\")\n",
    "ax1.grid(b=True, which='both', axis='both')\n",
    "#     plt.legend()"
   ]
  },
  {
   "cell_type": "code",
   "execution_count": null,
   "metadata": {},
   "outputs": [],
   "source": [
    "fig, (ax1, ax2, ax3) = plt.subplots(1, 3)\n",
    "fig.set_figwidth(16)\n",
    "fig.set_figheight(8)\n",
    "for index, row in loaded_df.iterrows():\n",
    "    if row[\"system_name\"] != \"spring\":\n",
    "        continue\n",
    "    if row[\"method_name\"] == \"srnn\":\n",
    "        ax = ax1\n",
    "    elif row[\"method_name\"] == \"hnn\":\n",
    "        ax = ax2\n",
    "    elif row[\"method_name\"] == \"mlp\":\n",
    "        ax = ax3\n",
    "    ax.semilogy(row[\"inferred_trajectory_error\"].mean(axis=0), label=\"epochs_\"+str(row[\"num_epochs\"]))\n",
    "ax1.grid(b=True, which='both', axis='both')\n",
    "ax1.legend()\n",
    "ax2.legend()\n",
    "ax3.legend()\n"
   ]
  },
  {
   "cell_type": "code",
   "execution_count": null,
   "metadata": {},
   "outputs": [],
   "source": [
    "fig, (ax1, ax2, ax3) = plt.subplots(1, 3)\n",
    "fig.set_figwidth(16)\n",
    "fig.set_figheight(8)\n",
    "for index, row in loaded_df.iterrows():\n",
    "    if row[\"system_name\"] != \"spring\":\n",
    "        continue\n",
    "    if row[\"method_name\"] == \"srnn\":\n",
    "        ax = ax1\n",
    "    elif row[\"method_name\"] == \"hnn\":\n",
    "        ax = ax2\n",
    "    elif row[\"method_name\"] == \"mlp\":\n",
    "        ax = ax3\n",
    "    ax.semilogy(row[\"inferred_trajectory_error\"].mean(axis=0), label=\"trajectories_\"+str(row[\"num_train_trajectories\"]))\n",
    "ax1.grid(b=True, which='both', axis='both')\n",
    "ax1.legend()\n",
    "ax2.legend()\n",
    "ax3.legend()\n",
    "\n"
   ]
  },
  {
   "cell_type": "code",
   "execution_count": null,
   "metadata": {},
   "outputs": [],
   "source": [
    "loaded_df.columns"
   ]
  },
  {
   "cell_type": "code",
   "execution_count": null,
   "metadata": {},
   "outputs": [],
   "source": [
    "loaded_df.drop(['ground_truth_trajectory', 'inferred_trajectory', 'inferred_trajectory_error'], axis=1)"
   ]
  },
  {
   "cell_type": "code",
   "execution_count": null,
   "metadata": {},
   "outputs": [],
   "source": []
  }
 ],
 "metadata": {
  "kernelspec": {
   "display_name": "Python 3",
   "language": "python",
   "name": "python3"
  },
  "language_info": {
   "codemirror_mode": {
    "name": "ipython",
    "version": 3
   },
   "file_extension": ".py",
   "mimetype": "text/x-python",
   "name": "python",
   "nbconvert_exporter": "python",
   "pygments_lexer": "ipython3",
   "version": "3.8.5"
  }
 },
 "nbformat": 4,
 "nbformat_minor": 4
}
